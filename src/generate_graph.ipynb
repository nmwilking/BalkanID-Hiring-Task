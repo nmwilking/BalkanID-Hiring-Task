{
 "cells": [
  {
   "cell_type": "code",
   "execution_count": 3,
   "metadata": {},
   "outputs": [],
   "source": [
    "from config import Config\n",
    "import networkx as nx\n",
    "import json\n",
    "\n",
    "papers = None\n",
    "with open(Config.REDUCED_JSON_PATH, 'r') as infile:\n",
    "    papers = json.load(infile)\n",
    "\n",
    "unarxiv = None\n",
    "with open(Config.UNARXIV_REDUCED_JSON_PATH, 'r') as infile:\n",
    "    unarxiv = json.load(infile)"
   ]
  },
  {
   "cell_type": "code",
   "execution_count": 4,
   "metadata": {},
   "outputs": [
    {
     "name": "stdout",
     "output_type": "stream",
     "text": [
      "This dataset contains 795 papers making 10918 citations of 8947 unique works, 245 of which reference other papers in the dataset.\n",
      "31 papers in the dataset have both an incoming and outgoing citation in the set.\n"
     ]
    }
   ],
   "source": [
    "# Cursory density estimation\n",
    "\n",
    "l = set(papers.keys())\n",
    "found = {True: 0, False: 0}\n",
    "citing = set()\n",
    "cited = set()\n",
    "all_citations = set()\n",
    "for id, md in papers.items():\n",
    "    for ref in md['arxiv_bib_ids']:\n",
    "        all_citations.add(ref)\n",
    "        if ref in l:\n",
    "            found[True] += 1\n",
    "            citing.add(id)\n",
    "            cited.add(ref)\n",
    "        else:\n",
    "            found[False] += 1\n",
    "\n",
    "print(f'''This dataset contains {len(papers)} papers making {sum(found.values())} citations \\\n",
    "of {len(all_citations)} unique works, {found[True]} of which reference other papers in the dataset.\n",
    "{len(cited.intersection(citing))} papers in the dataset have both an incoming and outgoing citation in the set.''')"
   ]
  },
  {
   "cell_type": "code",
   "execution_count": 5,
   "metadata": {},
   "outputs": [
    {
     "data": {
      "text/plain": [
       "True"
      ]
     },
     "execution_count": 5,
     "metadata": {},
     "output_type": "execute_result"
    }
   ],
   "source": [
    "# Ensure papers is a subset of unarxiv so that unarxiv's keys can be used alone for node generation\n",
    "all([k in unarxiv for k in papers])"
   ]
  },
  {
   "cell_type": "code",
   "execution_count": 15,
   "metadata": {},
   "outputs": [],
   "source": [
    "g = nx.DiGraph()\n",
    "for id, data in unarxiv.items():\n",
    "    for bib_id in data['arxiv_bib_ids']:\n",
    "        if bib_id in unarxiv:\n",
    "            g.add_edge(bib_id, id)"
   ]
  },
  {
   "cell_type": "code",
   "execution_count": 17,
   "metadata": {},
   "outputs": [
    {
     "data": {
      "text/plain": [
       "[('0806.2274', '0905.3378'), ('0905.3378', '0806.2274')]"
      ]
     },
     "execution_count": 17,
     "metadata": {},
     "output_type": "execute_result"
    }
   ],
   "source": [
    "nx.find_cycle(g)"
   ]
  }
 ],
 "metadata": {
  "kernelspec": {
   "display_name": "Python 3",
   "language": "python",
   "name": "python3"
  },
  "language_info": {
   "codemirror_mode": {
    "name": "ipython",
    "version": 3
   },
   "file_extension": ".py",
   "mimetype": "text/x-python",
   "name": "python",
   "nbconvert_exporter": "python",
   "pygments_lexer": "ipython3",
   "version": "3.11.6"
  }
 },
 "nbformat": 4,
 "nbformat_minor": 2
}
