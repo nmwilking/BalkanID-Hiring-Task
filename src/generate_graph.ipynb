{
 "cells": [
  {
   "cell_type": "code",
   "execution_count": 1,
   "metadata": {},
   "outputs": [],
   "source": [
    "from config import Config\n",
    "import networkx as nx\n",
    "import json\n",
    "\n",
    "papers = None\n",
    "with open(Config.REDUCED_JSON_PATH, 'r') as infile:\n",
    "    papers = json.load(infile)"
   ]
  },
  {
   "cell_type": "code",
   "execution_count": 2,
   "metadata": {},
   "outputs": [
    {
     "name": "stdout",
     "output_type": "stream",
     "text": [
      "This dataset contains 795 papers making 10918 citations of 8947 unique works, 245 of which reference other papers in the dataset.\n",
      "31 papers in the dataset have both an incoming and outgoing citation in the set.\n"
     ]
    }
   ],
   "source": [
    "# Cursory density estimation\n",
    "\n",
    "l = set(papers.keys())\n",
    "found = {True: 0, False: 0}\n",
    "citing = set()\n",
    "cited = set()\n",
    "all_citations = set()\n",
    "for id, md in papers.items():\n",
    "    for ref in md['arxiv_bib_ids']:\n",
    "        all_citations.add(ref)\n",
    "        if ref in l:\n",
    "            found[True] += 1\n",
    "            citing.add(id)\n",
    "            cited.add(ref)\n",
    "        else:\n",
    "            found[False] += 1\n",
    "\n",
    "print(f'''This dataset contains {len(papers)} papers making {sum(found.values())} citations \\\n",
    "of {len(all_citations)} unique works, {found[True]} of which reference other papers in the dataset.\n",
    "{len(cited.intersection(citing))} papers in the dataset have both an incoming and outgoing citation in the set.''')"
   ]
  },
  {
   "cell_type": "code",
   "execution_count": 3,
   "metadata": {},
   "outputs": [
    {
     "name": "stdout",
     "output_type": "stream",
     "text": [
      "This dataset contains 795 papers making 10918 citations of 8947 unique works, 245 of which reference other papers in the dataset.\n",
      "31 papers in the dataset have both an incoming and outgoing citation in the set.\n"
     ]
    }
   ],
   "source": [
    "# Cursory density estimation\n",
    "\n",
    "l = set(papers.keys())\n",
    "found = {True: 0, False: 0}\n",
    "citing = set()\n",
    "cited = set()\n",
    "all_citations = set()\n",
    "for id, md in papers.items():\n",
    "    for ref in md['arxiv_bib_ids']:\n",
    "        all_citations.add(ref)\n",
    "        if ref in l:\n",
    "            found[True] += 1\n",
    "            citing.add(id)\n",
    "            cited.add(ref)\n",
    "        else:\n",
    "            found[False] += 1\n",
    "\n",
    "print(f'''This dataset contains {len(papers)} papers making {sum(found.values())} citations \\\n",
    "of {len(all_citations)} unique works, {found[True]} of which reference other papers in the dataset.\n",
    "{len(cited.intersection(citing))} papers in the dataset have both an incoming and outgoing citation in the set.''')"
   ]
  }
 ],
 "metadata": {
  "kernelspec": {
   "display_name": "Python 3",
   "language": "python",
   "name": "python3"
  },
  "language_info": {
   "codemirror_mode": {
    "name": "ipython",
    "version": 3
   },
   "file_extension": ".py",
   "mimetype": "text/x-python",
   "name": "python",
   "nbconvert_exporter": "python",
   "pygments_lexer": "ipython3",
   "version": "3.11.6"
  }
 },
 "nbformat": 4,
 "nbformat_minor": 2
}
