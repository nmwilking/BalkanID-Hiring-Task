{
 "cells": [
  {
   "cell_type": "code",
   "execution_count": 1,
   "metadata": {},
   "outputs": [],
   "source": [
    "from config import Config\n",
    "import json\n",
    "import tarfile"
   ]
  },
  {
   "cell_type": "code",
   "execution_count": 2,
   "metadata": {},
   "outputs": [],
   "source": [
    "def process_jsonl(src) -> dict:\n",
    "    # Read papers from JSONL and store them in a dict\n",
    "    papers = {}\n",
    "    for line in src.readlines():\n",
    "        paper = json.loads(line)\n",
    "\n",
    "        # This is aggressive dimensionality reduction - see README for discussion of why these columns were selected\n",
    "        papers[paper['paper_id']] = {\n",
    "            'title': paper['metadata']['title'],\n",
    "            'authors': None, # Populated below\n",
    "            # TODO: Cosider splitting categories into prefix and postfix (nested dict?) for better similarity comparisons between papers\n",
    "            'categories': paper['metadata']['categories'].split(' '),\n",
    "            'abstract': paper['metadata']['abstract'],\n",
    "            'discipline': paper['discipline'],\n",
    "            'arxiv_bib_ids': None # Populated below\n",
    "        }\n",
    "\n",
    "        authors = []\n",
    "        for author in paper['metadata']['authors_parsed']:\n",
    "            authors.append(' '.join(author[1::-1]))\n",
    "        papers[paper['paper_id']]['authors'] = authors\n",
    "\n",
    "        bib_ids = set()\n",
    "        for bib_entry in paper['bib_entries'].values():\n",
    "            if 'ids' in bib_entry and bib_entry['ids']['arxiv_id'] != '':\n",
    "                bib_ids.add(bib_entry['ids']['arxiv_id'])\n",
    "            for id in bib_entry['contained_arXiv_ids']:\n",
    "                bib_ids.add(id['id'])\n",
    "        papers[paper['paper_id']]['arxiv_bib_ids'] = list(bib_ids)\n",
    "    return papers"
   ]
  },
  {
   "cell_type": "code",
   "execution_count": 3,
   "metadata": {},
   "outputs": [],
   "source": [
    "# Write parsed dict to new JSON file\n",
    "with open(Config.REDUCED_JSON_PATH, 'w') as outfile:\n",
    "    # Indentation has small file size and performance impacts, but the legibility is worth it here.\n",
    "    json.dump(process_jsonl(open(Config.DATA_JSONL_PATH)), outfile, indent=2)"
   ]
  },
  {
   "cell_type": "code",
   "execution_count": 5,
   "metadata": {},
   "outputs": [],
   "source": [
    "# unarXiv processing\n",
    "unarxiv = {}\n",
    "with tarfile.open(Config.UNARXIV_TAR_PATH) as archive:\n",
    "    for entry in archive:\n",
    "        unarxiv.update(process_jsonl(archive.extractfile(entry)))"
   ]
  },
  {
   "cell_type": "code",
   "execution_count": 6,
   "metadata": {},
   "outputs": [],
   "source": [
    "with open('../data/ingested/unarxiv.json', 'w') as outfile:\n",
    "    json.dump(unarxiv, outfile, indent=2)"
   ]
  }
 ],
 "metadata": {
  "kernelspec": {
   "display_name": "Python 3",
   "language": "python",
   "name": "python3"
  },
  "language_info": {
   "codemirror_mode": {
    "name": "ipython",
    "version": 3
   },
   "file_extension": ".py",
   "mimetype": "text/x-python",
   "name": "python",
   "nbconvert_exporter": "python",
   "pygments_lexer": "ipython3",
   "version": "3.11.6"
  }
 },
 "nbformat": 4,
 "nbformat_minor": 2
}
