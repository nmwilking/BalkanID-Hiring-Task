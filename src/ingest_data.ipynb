{
 "cells": [
  {
   "cell_type": "code",
   "execution_count": 2,
   "metadata": {},
   "outputs": [],
   "source": [
    "from config import Config\n",
    "import json\n",
    "import tarfile"
   ]
  },
  {
   "cell_type": "code",
   "execution_count": 3,
   "metadata": {},
   "outputs": [],
   "source": [
    "def process_jsonl(src) -> dict:\n",
    "    # Read papers from JSONL and store them in a dict\n",
    "    papers = {}\n",
    "    for line in src.readlines():\n",
    "        paper = json.loads(line)\n",
    "\n",
    "        # This is aggressive dimensionality reduction - see README for discussion of why these columns were selected\n",
    "        papers[paper['paper_id']] = {\n",
    "            'title': paper['metadata']['title'],\n",
    "            'authors': None, # Populated below\n",
    "            # TODO: Cosider splitting categories into prefix and postfix (nested dict?) for better similarity comparisons between papers\n",
    "            'categories': paper['metadata']['categories'].split(' '),\n",
    "            'abstract': paper['metadata']['abstract'],\n",
    "            'discipline': paper['discipline'],\n",
    "            'arxiv_bib_ids': None # Populated below\n",
    "        }\n",
    "\n",
    "        authors = []\n",
    "        for author in paper['metadata']['authors_parsed']:\n",
    "            authors.append(' '.join(author[1::-1]))\n",
    "        papers[paper['paper_id']]['authors'] = authors\n",
    "\n",
    "        bib_ids = set()\n",
    "        for bib_entry in paper['bib_entries'].values():\n",
    "            if 'ids' in bib_entry and bib_entry['ids']['arxiv_id'] != '':\n",
    "                bib_ids.add(bib_entry['ids']['arxiv_id'])\n",
    "\n",
    "            for id in bib_entry['contained_arXiv_ids']:\n",
    "                bib_ids.add(id['id'])\n",
    "        papers[paper['paper_id']]['arxiv_bib_ids'] = list(bib_ids)\n",
    "    return papers"
   ]
  },
  {
   "cell_type": "code",
   "execution_count": 4,
   "metadata": {},
   "outputs": [],
   "source": [
    "# Write parsed dict to new JSON file\n",
    "with open(Config.REDUCED_JSON_PATH, 'w') as outfile:\n",
    "    # Indentation has small file size and performance impacts, but the legibility is worth it here.\n",
    "    json.dump(process_jsonl(open(Config.DATA_JSONL_PATH)), outfile, indent=2)"
   ]
  },
  {
   "cell_type": "code",
   "execution_count": 5,
   "metadata": {},
   "outputs": [
    {
     "ename": "KeyboardInterrupt",
     "evalue": "",
     "output_type": "error",
     "traceback": [
      "\u001b[1;31m---------------------------------------------------------------------------\u001b[0m",
      "\u001b[1;31mKeyboardInterrupt\u001b[0m                         Traceback (most recent call last)",
      "\u001b[1;32mc:\\Users\\xkcdb\\OneDrive\\Documents\\BalkanID\\BalkanID-Hiring-Task\\src\\ingest_data.ipynb Cell 4\u001b[0m line \u001b[0;36m5\n\u001b[0;32m      <a href='vscode-notebook-cell:/c%3A/Users/xkcdb/OneDrive/Documents/BalkanID/BalkanID-Hiring-Task/src/ingest_data.ipynb#W3sZmlsZQ%3D%3D?line=2'>3</a>\u001b[0m \u001b[39mwith\u001b[39;00m tarfile\u001b[39m.\u001b[39mopen(Config\u001b[39m.\u001b[39mUNARXIV_TAR_PATH) \u001b[39mas\u001b[39;00m archive:\n\u001b[0;32m      <a href='vscode-notebook-cell:/c%3A/Users/xkcdb/OneDrive/Documents/BalkanID/BalkanID-Hiring-Task/src/ingest_data.ipynb#W3sZmlsZQ%3D%3D?line=3'>4</a>\u001b[0m     \u001b[39mfor\u001b[39;00m entry \u001b[39min\u001b[39;00m archive:\n\u001b[1;32m----> <a href='vscode-notebook-cell:/c%3A/Users/xkcdb/OneDrive/Documents/BalkanID/BalkanID-Hiring-Task/src/ingest_data.ipynb#W3sZmlsZQ%3D%3D?line=4'>5</a>\u001b[0m         unarxiv\u001b[39m.\u001b[39mupdate(process_jsonl(archive\u001b[39m.\u001b[39;49mextractfile(entry)))\n",
      "\u001b[1;32mc:\\Users\\xkcdb\\OneDrive\\Documents\\BalkanID\\BalkanID-Hiring-Task\\src\\ingest_data.ipynb Cell 4\u001b[0m line \u001b[0;36m4\n\u001b[0;32m      <a href='vscode-notebook-cell:/c%3A/Users/xkcdb/OneDrive/Documents/BalkanID/BalkanID-Hiring-Task/src/ingest_data.ipynb#W3sZmlsZQ%3D%3D?line=0'>1</a>\u001b[0m \u001b[39mdef\u001b[39;00m \u001b[39mprocess_jsonl\u001b[39m(src) \u001b[39m-\u001b[39m\u001b[39m>\u001b[39m \u001b[39mdict\u001b[39m:\n\u001b[0;32m      <a href='vscode-notebook-cell:/c%3A/Users/xkcdb/OneDrive/Documents/BalkanID/BalkanID-Hiring-Task/src/ingest_data.ipynb#W3sZmlsZQ%3D%3D?line=1'>2</a>\u001b[0m     \u001b[39m# Read papers from JSONL and store them in a dict\u001b[39;00m\n\u001b[0;32m      <a href='vscode-notebook-cell:/c%3A/Users/xkcdb/OneDrive/Documents/BalkanID/BalkanID-Hiring-Task/src/ingest_data.ipynb#W3sZmlsZQ%3D%3D?line=2'>3</a>\u001b[0m     papers \u001b[39m=\u001b[39m {}\n\u001b[1;32m----> <a href='vscode-notebook-cell:/c%3A/Users/xkcdb/OneDrive/Documents/BalkanID/BalkanID-Hiring-Task/src/ingest_data.ipynb#W3sZmlsZQ%3D%3D?line=3'>4</a>\u001b[0m     \u001b[39mfor\u001b[39;00m line \u001b[39min\u001b[39;00m src\u001b[39m.\u001b[39;49mreadlines():\n\u001b[0;32m      <a href='vscode-notebook-cell:/c%3A/Users/xkcdb/OneDrive/Documents/BalkanID/BalkanID-Hiring-Task/src/ingest_data.ipynb#W3sZmlsZQ%3D%3D?line=4'>5</a>\u001b[0m         paper \u001b[39m=\u001b[39m json\u001b[39m.\u001b[39mloads(line)\n\u001b[0;32m      <a href='vscode-notebook-cell:/c%3A/Users/xkcdb/OneDrive/Documents/BalkanID/BalkanID-Hiring-Task/src/ingest_data.ipynb#W3sZmlsZQ%3D%3D?line=6'>7</a>\u001b[0m         \u001b[39m# This is aggressive dimensionality reduction - see README for discussion of why these columns were selected\u001b[39;00m\n",
      "File \u001b[1;32mC:\\Program Files\\WindowsApps\\PythonSoftwareFoundation.Python.3.11_3.11.1776.0_x64__qbz5n2kfra8p0\\Lib\\tarfile.py:700\u001b[0m, in \u001b[0;36m_FileInFile.readinto\u001b[1;34m(self, b)\u001b[0m\n\u001b[0;32m    699\u001b[0m \u001b[39mdef\u001b[39;00m \u001b[39mreadinto\u001b[39m(\u001b[39mself\u001b[39m, b):\n\u001b[1;32m--> 700\u001b[0m     buf \u001b[39m=\u001b[39m \u001b[39mself\u001b[39;49m\u001b[39m.\u001b[39;49mread(\u001b[39mlen\u001b[39;49m(b))\n\u001b[0;32m    701\u001b[0m     b[:\u001b[39mlen\u001b[39m(buf)] \u001b[39m=\u001b[39m buf\n\u001b[0;32m    702\u001b[0m     \u001b[39mreturn\u001b[39;00m \u001b[39mlen\u001b[39m(buf)\n",
      "File \u001b[1;32mC:\\Program Files\\WindowsApps\\PythonSoftwareFoundation.Python.3.11_3.11.1776.0_x64__qbz5n2kfra8p0\\Lib\\tarfile.py:689\u001b[0m, in \u001b[0;36m_FileInFile.read\u001b[1;34m(self, size)\u001b[0m\n\u001b[0;32m    687\u001b[0m \u001b[39mif\u001b[39;00m data:\n\u001b[0;32m    688\u001b[0m     \u001b[39mself\u001b[39m\u001b[39m.\u001b[39mfileobj\u001b[39m.\u001b[39mseek(offset \u001b[39m+\u001b[39m (\u001b[39mself\u001b[39m\u001b[39m.\u001b[39mposition \u001b[39m-\u001b[39m start))\n\u001b[1;32m--> 689\u001b[0m     b \u001b[39m=\u001b[39m \u001b[39mself\u001b[39;49m\u001b[39m.\u001b[39;49mfileobj\u001b[39m.\u001b[39;49mread(length)\n\u001b[0;32m    690\u001b[0m     \u001b[39mif\u001b[39;00m \u001b[39mlen\u001b[39m(b) \u001b[39m!=\u001b[39m length:\n\u001b[0;32m    691\u001b[0m         \u001b[39mraise\u001b[39;00m ReadError(\u001b[39m\"\u001b[39m\u001b[39munexpected end of data\u001b[39m\u001b[39m\"\u001b[39m)\n",
      "File \u001b[1;32mC:\\Program Files\\WindowsApps\\PythonSoftwareFoundation.Python.3.11_3.11.1776.0_x64__qbz5n2kfra8p0\\Lib\\lzma.py:200\u001b[0m, in \u001b[0;36mLZMAFile.read\u001b[1;34m(self, size)\u001b[0m\n\u001b[0;32m    194\u001b[0m \u001b[39m\u001b[39m\u001b[39m\"\"\"Read up to size uncompressed bytes from the file.\u001b[39;00m\n\u001b[0;32m    195\u001b[0m \n\u001b[0;32m    196\u001b[0m \u001b[39mIf size is negative or omitted, read until EOF is reached.\u001b[39;00m\n\u001b[0;32m    197\u001b[0m \u001b[39mReturns b\"\" if the file is already at EOF.\u001b[39;00m\n\u001b[0;32m    198\u001b[0m \u001b[39m\"\"\"\u001b[39;00m\n\u001b[0;32m    199\u001b[0m \u001b[39mself\u001b[39m\u001b[39m.\u001b[39m_check_can_read()\n\u001b[1;32m--> 200\u001b[0m \u001b[39mreturn\u001b[39;00m \u001b[39mself\u001b[39m\u001b[39m.\u001b[39m_buffer\u001b[39m.\u001b[39mread(size)\n",
      "File \u001b[1;32mC:\\Program Files\\WindowsApps\\PythonSoftwareFoundation.Python.3.11_3.11.1776.0_x64__qbz5n2kfra8p0\\Lib\\_compression.py:68\u001b[0m, in \u001b[0;36mDecompressReader.readinto\u001b[1;34m(self, b)\u001b[0m\n\u001b[0;32m     66\u001b[0m \u001b[39mdef\u001b[39;00m \u001b[39mreadinto\u001b[39m(\u001b[39mself\u001b[39m, b):\n\u001b[0;32m     67\u001b[0m     \u001b[39mwith\u001b[39;00m \u001b[39mmemoryview\u001b[39m(b) \u001b[39mas\u001b[39;00m view, view\u001b[39m.\u001b[39mcast(\u001b[39m\"\u001b[39m\u001b[39mB\u001b[39m\u001b[39m\"\u001b[39m) \u001b[39mas\u001b[39;00m byte_view:\n\u001b[1;32m---> 68\u001b[0m         data \u001b[39m=\u001b[39m \u001b[39mself\u001b[39;49m\u001b[39m.\u001b[39;49mread(\u001b[39mlen\u001b[39;49m(byte_view))\n\u001b[0;32m     69\u001b[0m         byte_view[:\u001b[39mlen\u001b[39m(data)] \u001b[39m=\u001b[39m data\n\u001b[0;32m     70\u001b[0m     \u001b[39mreturn\u001b[39;00m \u001b[39mlen\u001b[39m(data)\n",
      "File \u001b[1;32mC:\\Program Files\\WindowsApps\\PythonSoftwareFoundation.Python.3.11_3.11.1776.0_x64__qbz5n2kfra8p0\\Lib\\_compression.py:103\u001b[0m, in \u001b[0;36mDecompressReader.read\u001b[1;34m(self, size)\u001b[0m\n\u001b[0;32m    101\u001b[0m     \u001b[39melse\u001b[39;00m:\n\u001b[0;32m    102\u001b[0m         rawblock \u001b[39m=\u001b[39m \u001b[39mb\u001b[39m\u001b[39m\"\u001b[39m\u001b[39m\"\u001b[39m\n\u001b[1;32m--> 103\u001b[0m     data \u001b[39m=\u001b[39m \u001b[39mself\u001b[39m\u001b[39m.\u001b[39m_decompressor\u001b[39m.\u001b[39mdecompress(rawblock, size)\n\u001b[0;32m    104\u001b[0m \u001b[39mif\u001b[39;00m data:\n\u001b[0;32m    105\u001b[0m     \u001b[39mbreak\u001b[39;00m\n",
      "\u001b[1;31mKeyboardInterrupt\u001b[0m: "
     ]
    }
   ],
   "source": [
    "# unarXiv processing\n",
    "unarxiv = {}\n",
    "with tarfile.open(Config.UNARXIV_TAR_PATH) as archive:\n",
    "    for entry in archive:\n",
    "        unarxiv.update(process_jsonl(archive.extractfile(entry)))"
   ]
  },
  {
   "cell_type": "code",
   "execution_count": null,
   "metadata": {},
   "outputs": [],
   "source": [
    "with open(Config.UNARXIV_REDUCED_JSON_PATH, 'w') as outfile:\n",
    "    json.dump(unarxiv, outfile, indent=2)"
   ]
  }
 ],
 "metadata": {
  "kernelspec": {
   "display_name": "Python 3",
   "language": "python",
   "name": "python3"
  },
  "language_info": {
   "codemirror_mode": {
    "name": "ipython",
    "version": 3
   },
   "file_extension": ".py",
   "mimetype": "text/x-python",
   "name": "python",
   "nbconvert_exporter": "python",
   "pygments_lexer": "ipython3",
   "version": "3.11.6"
  }
 },
 "nbformat": 4,
 "nbformat_minor": 2
}
