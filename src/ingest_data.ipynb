{
 "cells": [
  {
   "cell_type": "code",
   "execution_count": null,
   "metadata": {},
   "outputs": [],
   "source": [
    "import json\n",
    "DATA_JSONL_PATH = '../data/dataset.jsonl'"
   ]
  },
  {
   "cell_type": "code",
   "execution_count": null,
   "metadata": {},
   "outputs": [],
   "source": [
    "# Read papers from JSONL and store them in a dict\n",
    "papers = {}\n",
    "with open(DATA_JSONL_PATH, 'r') as infile:\n",
    "    for line in infile.readlines():\n",
    "        paper = json.loads(line)\n",
    "\n",
    "        # This is aggressive dimensionality reduction - see README for discussion of why these columns were selected\n",
    "        papers[paper['paper_id']] = {\n",
    "            'title': paper['metadata']['title'],\n",
    "            'authors': paper['metadata']['authors_parsed'],\n",
    "            'categories': paper['metadata']['categories'].split(' '),\n",
    "            'abstract': paper['metadata']['abstract'],\n",
    "            'discipline': paper['discipline'],\n",
    "            'arxiv_bib_ids': None # Populated below\n",
    "        }\n",
    "\n",
    "        bib_ids = set()\n",
    "        for bib_entry in paper['bib_entries'].values():\n",
    "            if 'ids' in bib_entry and bib_entry['ids']['arxiv_id'] != '':\n",
    "                bib_ids.add(bib_entry['ids']['arxiv_id'])\n",
    "            \n",
    "\n",
    "        papers[paper['paper_id']]['arxiv_bib_ids'] = list(bib_ids)"
   ]
  },
  {
   "cell_type": "code",
   "execution_count": null,
   "metadata": {},
   "outputs": [],
   "source": [
    "with open('../data/reduced.json', 'w') as outfile:\n",
    "    # Indentation has small file size and performance impacts,\n",
    "    #   but the legibility is worth it in this case.\n",
    "    json.dump(papers, outfile, indent=2)"
   ]
  }
 ],
 "metadata": {
  "kernelspec": {
   "display_name": "Python 3",
   "language": "python",
   "name": "python3"
  },
  "language_info": {
   "codemirror_mode": {
    "name": "ipython",
    "version": 3
   },
   "file_extension": ".py",
   "mimetype": "text/x-python",
   "name": "python",
   "nbconvert_exporter": "python",
   "pygments_lexer": "ipython3",
   "version": "3.11.6"
  }
 },
 "nbformat": 4,
 "nbformat_minor": 2
}
