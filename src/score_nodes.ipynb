{
 "cells": [
  {
   "cell_type": "code",
   "execution_count": 9,
   "metadata": {},
   "outputs": [],
   "source": [
    "from config import Config\n",
    "import networkx as nx\n",
    "import pickle\n",
    "import json\n",
    "import pandas as pd\n",
    "\n",
    "g: nx.DiGraph = None\n",
    "with open(Config.GRAPH_BIN_PATH, 'rb') as infile:\n",
    "    g = pickle.load(infile)\n",
    "\n",
    "papers: dict = None\n",
    "with open(Config.REDUCED_JSON_PATH, 'r') as infile:\n",
    "    papers = json.load(infile)\n",
    "\n",
    "unarxive: dict = None\n",
    "with open(Config.UNARXIVE_REDUCED_JSON_PATH, 'r') as infile:\n",
    "    unarxive = json.load(infile)"
   ]
  },
  {
   "cell_type": "code",
   "execution_count": 10,
   "metadata": {},
   "outputs": [],
   "source": [
    "def pairwise_impact(id_a: str, id_b:str) -> float:\n",
    "    impact_coef = 1.0\n",
    "    data_a = unarxive[id_a]\n",
    "    data_b = unarxive[id_b]\n",
    "\n",
    "    # Different field -> more impact\n",
    "    if data_a['discipline'] != data_b['discipline']:\n",
    "        impact_coef *= 1.5\n",
    "    \n",
    "    # Shared authors -> less impact\n",
    "    common_authors = len(set(data_a['authors']).intersection(data_b['authors']))\n",
    "    if common_authors > 0:\n",
    "        impact_coef *= 1 - (common_authors / max(len(data_a['authors']), len(data_b['authors'])))\n",
    "\n",
    "    return impact_coef"
   ]
  },
  {
   "cell_type": "code",
   "execution_count": 11,
   "metadata": {},
   "outputs": [],
   "source": [
    "def get_node_score(id: str) -> float:\n",
    "    if 'impact_score' in g.nodes[id]:\n",
    "        return g.nodes[id]['impact_score']\n",
    "\n",
    "    score = 1.0\n",
    "    for _, citing in list(g.out_edges(id)):\n",
    "        score += get_node_score(citing) * pairwise_impact(id, citing)\n",
    "    \n",
    "    g.nodes[id]['impact_score'] = score\n",
    "    return score"
   ]
  },
  {
   "cell_type": "code",
   "execution_count": 12,
   "metadata": {},
   "outputs": [],
   "source": [
    "eligible_papers = set(papers.keys()).intersection(set(g.nodes))\n",
    "for id in eligible_papers:\n",
    "    get_node_score(id)"
   ]
  },
  {
   "cell_type": "code",
   "execution_count": 13,
   "metadata": {},
   "outputs": [],
   "source": [
    "scores_dict = {id: g.nodes[id]['impact_score'] for id in eligible_papers}\n",
    "scores = pd.DataFrame(scores_dict.items(), columns=['id', 'impact'])\n",
    "scores.set_index('id', inplace=True)\n",
    "scores.sort_values('impact', ascending=False, inplace=True)\n",
    "scores['impact_pct'] = scores['impact'] / max(scores['impact']) * 100"
   ]
  },
  {
   "cell_type": "code",
   "execution_count": 16,
   "metadata": {},
   "outputs": [
    {
     "data": {
      "text/html": [
       "<div>\n",
       "<style scoped>\n",
       "    .dataframe tbody tr th:only-of-type {\n",
       "        vertical-align: middle;\n",
       "    }\n",
       "\n",
       "    .dataframe tbody tr th {\n",
       "        vertical-align: top;\n",
       "    }\n",
       "\n",
       "    .dataframe thead th {\n",
       "        text-align: right;\n",
       "    }\n",
       "</style>\n",
       "<table border=\"1\" class=\"dataframe\">\n",
       "  <thead>\n",
       "    <tr style=\"text-align: right;\">\n",
       "      <th></th>\n",
       "      <th>impact</th>\n",
       "      <th>impact_pct</th>\n",
       "      <th>title</th>\n",
       "    </tr>\n",
       "    <tr>\n",
       "      <th>id</th>\n",
       "      <th></th>\n",
       "      <th></th>\n",
       "      <th></th>\n",
       "    </tr>\n",
       "  </thead>\n",
       "  <tbody>\n",
       "    <tr>\n",
       "      <th>1806.00425</th>\n",
       "      <td>4.774825e+06</td>\n",
       "      <td>100.000000</td>\n",
       "      <td>Observation of Higgs boson production in assoc...</td>\n",
       "    </tr>\n",
       "    <tr>\n",
       "      <th>1807.02512</th>\n",
       "      <td>5.259803e+05</td>\n",
       "      <td>11.015700</td>\n",
       "      <td>Transversal Modes and Higgs Bosons in Electrow...</td>\n",
       "    </tr>\n",
       "    <tr>\n",
       "      <th>1808.04403</th>\n",
       "      <td>3.021374e+05</td>\n",
       "      <td>6.327718</td>\n",
       "      <td>CoDEx: Wilson coefficient calculator connectin...</td>\n",
       "    </tr>\n",
       "    <tr>\n",
       "      <th>2012.02779</th>\n",
       "      <td>3.018751e+05</td>\n",
       "      <td>6.322223</td>\n",
       "      <td>Top, Higgs, Diboson and Electroweak Fit to the...</td>\n",
       "    </tr>\n",
       "    <tr>\n",
       "      <th>1809.03520</th>\n",
       "      <td>2.013638e+05</td>\n",
       "      <td>4.217197</td>\n",
       "      <td>Probing top-quark couplings indirectly at Higg...</td>\n",
       "    </tr>\n",
       "  </tbody>\n",
       "</table>\n",
       "</div>"
      ],
      "text/plain": [
       "                  impact  impact_pct  \\\n",
       "id                                     \n",
       "1806.00425  4.774825e+06  100.000000   \n",
       "1807.02512  5.259803e+05   11.015700   \n",
       "1808.04403  3.021374e+05    6.327718   \n",
       "2012.02779  3.018751e+05    6.322223   \n",
       "1809.03520  2.013638e+05    4.217197   \n",
       "\n",
       "                                                        title  \n",
       "id                                                             \n",
       "1806.00425  Observation of Higgs boson production in assoc...  \n",
       "1807.02512  Transversal Modes and Higgs Bosons in Electrow...  \n",
       "1808.04403  CoDEx: Wilson coefficient calculator connectin...  \n",
       "2012.02779  Top, Higgs, Diboson and Electroweak Fit to the...  \n",
       "1809.03520  Probing top-quark couplings indirectly at Higg...  "
      ]
     },
     "execution_count": 16,
     "metadata": {},
     "output_type": "execute_result"
    }
   ],
   "source": [
    "most_impactful = scores.head().copy()\n",
    "most_impactful['title'] = [unarxive[id]['title'] for id in most_impactful.index]\n",
    "most_impactful"
   ]
  }
 ],
 "metadata": {
  "kernelspec": {
   "display_name": "Python 3",
   "language": "python",
   "name": "python3"
  },
  "language_info": {
   "codemirror_mode": {
    "name": "ipython",
    "version": 3
   },
   "file_extension": ".py",
   "mimetype": "text/x-python",
   "name": "python",
   "nbconvert_exporter": "python",
   "pygments_lexer": "ipython3",
   "version": "3.11.5"
  }
 },
 "nbformat": 4,
 "nbformat_minor": 2
}
