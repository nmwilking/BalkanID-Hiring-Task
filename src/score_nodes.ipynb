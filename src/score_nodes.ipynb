{
 "cells": [
  {
   "cell_type": "code",
   "execution_count": null,
   "metadata": {},
   "outputs": [],
   "source": [
    "from config import Config\n",
    "import networkx as nx\n",
    "import pickle\n",
    "import json\n",
    "import pandas as pd\n",
    "\n",
    "g: nx.DiGraph = None\n",
    "with open(Config.GRAPH_BIN_PATH, 'rb') as infile:\n",
    "    g = pickle.load(infile)\n",
    "\n",
    "papers: dict = None\n",
    "with open(Config.REDUCED_JSON_PATH, 'r') as infile:\n",
    "    papers = json.load(infile)\n",
    "\n",
    "unarxiv: dict = None\n",
    "with open(Config.UNARXIV_REDUCED_JSON_PATH, 'r') as infile:\n",
    "    unarxiv = json.load(infile)"
   ]
  },
  {
   "cell_type": "code",
   "execution_count": null,
   "metadata": {},
   "outputs": [],
   "source": [
    "def pairwise_impact(id_a: str, id_b:str) -> float:\n",
    "    impact_coef = 1.0\n",
    "    data_a = unarxiv[id_a]\n",
    "    data_b = unarxiv[id_b]\n",
    "\n",
    "    # Different field -> more impact\n",
    "    if data_a['discipline'] != data_b['discipline']:\n",
    "        impact_coef *= 1.5\n",
    "    \n",
    "    # Shared authors -> less impact\n",
    "    common_authors = len(set(data_a['authors']).intersection(data_b['authors']))\n",
    "    if common_authors > 0:\n",
    "        impact_coef *= 1 - (common_authors / max(len(data_a['authors']), len(data_b['authors'])))\n",
    "\n",
    "    return impact_coef"
   ]
  },
  {
   "cell_type": "code",
   "execution_count": null,
   "metadata": {},
   "outputs": [],
   "source": [
    "def get_node_score(id: str) -> float:\n",
    "    if 'impact_score' in g.nodes[id]:\n",
    "        return g.nodes[id]['impact_score']\n",
    "\n",
    "    score = 1.0\n",
    "    for _, citing in list(g.out_edges(id)):\n",
    "        score += get_node_score(citing) * pairwise_impact(id, citing)\n",
    "    \n",
    "    g.nodes[id]['impact_score'] = score\n",
    "    return score"
   ]
  },
  {
   "cell_type": "code",
   "execution_count": null,
   "metadata": {},
   "outputs": [],
   "source": [
    "eligible_papers = set(papers.keys()).intersection(set(g.nodes))\n",
    "for id in eligible_papers:\n",
    "    get_node_score(id)"
   ]
  },
  {
   "cell_type": "code",
   "execution_count": null,
   "metadata": {},
   "outputs": [],
   "source": [
    "scores_dict = {id: g.nodes[id]['impact_score'] for id in eligible_papers}\n",
    "scores = pd.DataFrame(scores_dict.items(), columns=['id', 'impact'])\n",
    "scores.set_index('id', inplace=True)\n",
    "scores.sort_values('impact', ascending=False, inplace=True)\n",
    "scores['impact_pct'] = scores['impact'] / max(scores['impact']) * 100"
   ]
  },
  {
   "cell_type": "code",
   "execution_count": null,
   "metadata": {},
   "outputs": [],
   "source": [
    "most_impactful = scores.head().copy()\n",
    "most_impactful['title'] = [unarxiv[id]['title'] for id in most_impactful.index]\n",
    "most_impactful"
   ]
  }
 ],
 "metadata": {
  "kernelspec": {
   "display_name": "Python 3",
   "language": "python",
   "name": "python3"
  },
  "language_info": {
   "codemirror_mode": {
    "name": "ipython",
    "version": 3
   },
   "file_extension": ".py",
   "mimetype": "text/x-python",
   "name": "python",
   "nbconvert_exporter": "python",
   "pygments_lexer": "ipython3",
   "version": "3.11.5"
  }
 },
 "nbformat": 4,
 "nbformat_minor": 2
}
